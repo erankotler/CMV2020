{
 "cells": [
  {
   "cell_type": "markdown",
   "metadata": {},
   "source": [
    "## Extract and organize RNAseq data of CMV genes"
   ]
  },
  {
   "cell_type": "code",
   "execution_count": 8,
   "metadata": {
    "collapsed": true
   },
   "outputs": [],
   "source": [
    "import os\n",
    "import pandas as pd"
   ]
  },
  {
   "cell_type": "markdown",
   "metadata": {},
   "source": [
    "#### General parameters"
   ]
  },
  {
   "cell_type": "code",
   "execution_count": 9,
   "metadata": {
    "collapsed": true
   },
   "outputs": [],
   "source": [
    "gtf_f = \"/Users/erankotler/Google Drive/workspace/CMV/Data/RNAseq/CMV.gtf\"\n",
    "CMV_gene_ID_conv_f = \"/Users/erankotler/Google Drive/workspace/CMV/Data/Gene_ID_conversions/CMV_Conversion.csv\" \n",
    "data_d = \"/Users/erankotler/Google Drive/workspace/CMV/Data/RNAseq\"\n",
    "deseq_f = os.path.join(data_d,\"de_stats.csv\") # DEseq stats file\n",
    "norm_counts_f = os.path.join(data_d, \"countsMatrix_normalized.csv\") # Normalized counts file"
   ]
  },
  {
   "cell_type": "markdown",
   "metadata": {},
   "source": [
    "### Create gene ID conversion file for CMV genome"
   ]
  },
  {
   "cell_type": "markdown",
   "metadata": {},
   "source": [
    "#### Load gtf file and extract gene names for conversion table\n",
    "(conversion from https://www.ncbi.nlm.nih.gov/nuccore/157779983?report=genbank gff3 to gtf was performed by Gil Hornung, see readme.txt on cluster under CMV/RNAseq/INCPM/delivery)"
   ]
  },
  {
   "cell_type": "code",
   "execution_count": 10,
   "metadata": {
    "collapsed": true
   },
   "outputs": [],
   "source": [
    "gtf = pd.read_csv(gtf_f, header=None, sep='\\t')\n",
    "conv_tbl = pd.DataFrame()\n",
    "\n",
    "conv_tbl[\"Gene_name\"] = gtf[8].apply(lambda s:s.split(\"gene_name\")[-1][:-1][2:-1])\n",
    "conv_tbl[\"Gene_id\"] = gtf[8].apply(lambda s:s.split(\"gene_id\")[-1].split(\";\")[0][2:-1])\n",
    "conv_tbl[\"Transcript_id\"] = gtf[8].apply(lambda s:s.split(\"transcript_id\")[-1].split(\";\")[0][2:-1])\n",
    "conv_tbl = conv_tbl.drop_duplicates() # Dropping multiple transcripts of same gene"
   ]
  },
  {
   "cell_type": "markdown",
   "metadata": {},
   "source": [
    "#### Save conversion table to csv"
   ]
  },
  {
   "cell_type": "code",
   "execution_count": 11,
   "metadata": {
    "collapsed": false
   },
   "outputs": [],
   "source": [
    "conv_tbl.to_csv(CMV_gene_ID_conv_f)"
   ]
  },
  {
   "cell_type": "markdown",
   "metadata": {},
   "source": [
    "### Create differetial expression files for CMV genes (from DEseq output file)"
   ]
  },
  {
   "cell_type": "code",
   "execution_count": 12,
   "metadata": {
    "collapsed": false
   },
   "outputs": [],
   "source": [
    "# Load deseq data and gene name conversion table\n",
    "conv = pd.read_csv(CMV_gene_ID_conv_f, index_col=2).drop([\"Transcript_id\",\"Unnamed: 0\"], axis=1)\n",
    "deseq = pd.read_csv(deseq_f, index_col=0) # Load DESeq statistics"
   ]
  },
  {
   "cell_type": "code",
   "execution_count": 13,
   "metadata": {
    "collapsed": false
   },
   "outputs": [],
   "source": [
    "comparisons = list(deseq.index.unique()) # List of all 6 pairwise comparisons "
   ]
  },
  {
   "cell_type": "code",
   "execution_count": 14,
   "metadata": {
    "collapsed": false
   },
   "outputs": [],
   "source": [
    "# Merge datasets, leaving only CMV genes with known gene name\n",
    "deseq_known_IDs = pd.merge(left = deseq, right=conv, left_on=\"Gene\", right_index=True, how='inner')\n",
    "deseq_known_IDs[\"Gene\"] = deseq_known_IDs[\"Gene_name\"]\n",
    "deseq_known_IDs.drop(\"Gene_name\", axis=1, inplace=True)"
   ]
  },
  {
   "cell_type": "code",
   "execution_count": 15,
   "metadata": {
    "collapsed": true
   },
   "outputs": [],
   "source": [
    "## Save files to csv:\n",
    "# United de data file for CMV genes:\n",
    "deseq_known_IDs.to_csv(os.path.join(data_d,\"de_stats_CMV_genes.csv\"))\n",
    "\n",
    "# Separate file for each of the 6 pariwise comparisons:\n",
    "for c in comparisons:\n",
    "    d = deseq_known_IDs.loc[c, :]\n",
    "    d.index = d[\"Gene\"]\n",
    "    d = d.drop(\"Gene\", axis=1)\n",
    "    d.to_csv(os.path.join(data_d,\"{comp}_de_stats_CMV_genes.csv\".format(comp=c)))"
   ]
  },
  {
   "cell_type": "markdown",
   "metadata": {},
   "source": [
    "### Create normalized counts file for CMV genes"
   ]
  },
  {
   "cell_type": "code",
   "execution_count": 16,
   "metadata": {
    "collapsed": true
   },
   "outputs": [],
   "source": [
    "# Load deSeq normalized read counts data\n",
    "norm_counts = pd.read_csv(norm_counts_f, index_col=0)"
   ]
  },
  {
   "cell_type": "code",
   "execution_count": 17,
   "metadata": {
    "collapsed": false
   },
   "outputs": [],
   "source": [
    "# Merge datasets, leaving only CMV genes with known gene name\n",
    "counts_known_IDs = pd.merge(left = norm_counts, right=conv, left_index=True, right_index=True, how='inner')\n",
    "counts_known_IDs[\"Gene\"] = counts_known_IDs[\"Gene_name\"]\n",
    "counts_known_IDs.drop(\"Gene_name\", axis=1, inplace=True)"
   ]
  },
  {
   "cell_type": "code",
   "execution_count": 18,
   "metadata": {
    "collapsed": true
   },
   "outputs": [],
   "source": [
    "# Reorder columns:\n",
    "cols_order = ['Gene',\n",
    "              '1_Luc_Mock',\n",
    "              '2_Luc_Mock',\n",
    "              '3_Luc_Mock',\n",
    "              '4_Luc_CMV',\n",
    "              '5_Luc_CMV',\n",
    "              '6_Luc_CMV',\n",
    "              '7_IE1wt_CMV',\n",
    "              '8_IE1wt_CMV',\n",
    "              '9_IE1wt_CMV',\n",
    "              '10_IE1dCTD_CMV',\n",
    "              '11_IE1dCTD_CMV',\n",
    "              '12_IE1dCTD_CMV']"
   ]
  },
  {
   "cell_type": "code",
   "execution_count": 19,
   "metadata": {
    "collapsed": true
   },
   "outputs": [],
   "source": [
    "counts_known_IDs = counts_known_IDs[cols_order]"
   ]
  },
  {
   "cell_type": "code",
   "execution_count": 20,
   "metadata": {
    "collapsed": false
   },
   "outputs": [],
   "source": [
    "## Save CMV counts data to csv:\n",
    "counts_known_IDs.to_csv(os.path.join(data_d,\"countsMatrix_normalized_CMV_genes.csv\"))"
   ]
  },
  {
   "cell_type": "markdown",
   "metadata": {},
   "source": [
    "### Create normalized counts file for human genes as well"
   ]
  },
  {
   "cell_type": "code",
   "execution_count": 21,
   "metadata": {
    "collapsed": true
   },
   "outputs": [],
   "source": [
    "human_gene_ID_conv_f = \"/Users/erankotler/Google Drive/workspace/CMV/Data/Gene_ID_conversions/BioMart_Conversion.csv\" \n",
    "human_conv = pd.read_csv(human_gene_ID_conv_f, index_col=2).drop(\"Transcript stable ID\", axis=1)\n",
    "human_conv = human_conv.drop_duplicates()"
   ]
  },
  {
   "cell_type": "code",
   "execution_count": 22,
   "metadata": {
    "collapsed": false
   },
   "outputs": [],
   "source": [
    "# Merge datasets, leaving only human genes with known gene name\n",
    "human_counts_known_IDs = pd.merge(left = norm_counts, right=human_conv, left_index=True, right_index=True, how='inner')\n",
    "human_counts_known_IDs[\"Gene\"] = human_counts_known_IDs[\"Gene name\"]\n",
    "human_counts_known_IDs.drop(\"Gene name\", axis=1, inplace=True)"
   ]
  },
  {
   "cell_type": "code",
   "execution_count": 23,
   "metadata": {
    "collapsed": false
   },
   "outputs": [],
   "source": [
    "human_counts_known_IDs = human_counts_known_IDs[cols_order]"
   ]
  },
  {
   "cell_type": "code",
   "execution_count": 24,
   "metadata": {
    "collapsed": false
   },
   "outputs": [],
   "source": [
    "## Save human counts data to csv:\n",
    "human_counts_known_IDs.to_csv(os.path.join(data_d,\"countsMatrix_normalized_human_genes.csv\"))"
   ]
  },
  {
   "cell_type": "markdown",
   "metadata": {},
   "source": [
    "### Create gene-name converted TPM file for CMV genes"
   ]
  },
  {
   "cell_type": "code",
   "execution_count": 36,
   "metadata": {
    "collapsed": false
   },
   "outputs": [],
   "source": [
    "tpm_f = os.path.join(data_d,\"TPMs_kallisto.tsv\")\n",
    "tpm = pd.read_csv(tpm_f, sep=' ', index_col=0)\n",
    "tpm.index.name=None"
   ]
  },
  {
   "cell_type": "code",
   "execution_count": 37,
   "metadata": {
    "collapsed": false
   },
   "outputs": [],
   "source": [
    "# Merge datasets, leaving only human genes with known gene name\n",
    "cmv_tpm_known_IDs = pd.merge(left = tpm, right=conv, left_index=True, right_index=True, how='inner')\n",
    "cmv_tpm_known_IDs[\"Gene\"] = cmv_tpm_known_IDs[\"Gene_name\"]\n",
    "cmv_tpm_known_IDs.drop(\"Gene_name\", axis=1, inplace=True)"
   ]
  },
  {
   "cell_type": "code",
   "execution_count": 38,
   "metadata": {
    "collapsed": true
   },
   "outputs": [],
   "source": [
    "cmv_tpm_known_IDs = cmv_tpm_known_IDs[cols_order]"
   ]
  },
  {
   "cell_type": "code",
   "execution_count": 39,
   "metadata": {
    "collapsed": true
   },
   "outputs": [],
   "source": [
    "## Save human TPM data to csv:\n",
    "cmv_tpm_known_IDs.to_csv(os.path.join(data_d,\"TPMs_kallisto_CMV_genes.csv\"))"
   ]
  },
  {
   "cell_type": "markdown",
   "metadata": {},
   "source": [
    "### Create gene-name converted TPM file for human data"
   ]
  },
  {
   "cell_type": "code",
   "execution_count": 26,
   "metadata": {
    "collapsed": false
   },
   "outputs": [],
   "source": [
    "# Merge datasets, leaving only human genes with known gene name\n",
    "human_tpm_known_IDs = pd.merge(left = tpm, right=human_conv, left_index=True, right_index=True, how='inner')\n",
    "human_tpm_known_IDs[\"Gene\"] = human_tpm_known_IDs[\"Gene name\"]\n",
    "human_tpm_known_IDs.drop(\"Gene name\", axis=1, inplace=True)"
   ]
  },
  {
   "cell_type": "code",
   "execution_count": 27,
   "metadata": {
    "collapsed": false
   },
   "outputs": [],
   "source": [
    "human_tpm_known_IDs = human_tpm_known_IDs[cols_order]"
   ]
  },
  {
   "cell_type": "code",
   "execution_count": 28,
   "metadata": {
    "collapsed": false
   },
   "outputs": [],
   "source": [
    "## Save human TPM data to csv:\n",
    "human_tpm_known_IDs.to_csv(os.path.join(data_d,\"TPMs_kallisto_human_genes_convertedNames.csv\"))"
   ]
  },
  {
   "cell_type": "code",
   "execution_count": null,
   "metadata": {
    "collapsed": true
   },
   "outputs": [],
   "source": []
  },
  {
   "cell_type": "code",
   "execution_count": null,
   "metadata": {
    "collapsed": true
   },
   "outputs": [],
   "source": []
  },
  {
   "cell_type": "code",
   "execution_count": null,
   "metadata": {
    "collapsed": true
   },
   "outputs": [],
   "source": []
  },
  {
   "cell_type": "code",
   "execution_count": null,
   "metadata": {
    "collapsed": true
   },
   "outputs": [],
   "source": []
  },
  {
   "cell_type": "code",
   "execution_count": null,
   "metadata": {
    "collapsed": true
   },
   "outputs": [],
   "source": []
  },
  {
   "cell_type": "code",
   "execution_count": null,
   "metadata": {
    "collapsed": true
   },
   "outputs": [],
   "source": []
  }
 ],
 "metadata": {
  "kernelspec": {
   "display_name": "Python 2",
   "language": "python",
   "name": "python2"
  },
  "language_info": {
   "codemirror_mode": {
    "name": "ipython",
    "version": 2
   },
   "file_extension": ".py",
   "mimetype": "text/x-python",
   "name": "python",
   "nbconvert_exporter": "python",
   "pygments_lexer": "ipython2",
   "version": "2.7.13"
  }
 },
 "nbformat": 4,
 "nbformat_minor": 2
}
